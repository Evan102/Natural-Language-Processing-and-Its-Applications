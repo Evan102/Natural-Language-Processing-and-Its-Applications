{
 "cells": [
  {
   "cell_type": "markdown",
   "metadata": {},
   "source": [
    "<span style=\"color:orange; font-weight:bold\">Note: To answer questions based on text documents, we recommend the procedure in <a href=\"https://github.com/openai/openai-cookbook/blob/main/examples/Question_answering_using_embeddings.ipynb\">Question Answering using Embeddings</a>. Some of the code below may rely on <a href=\"https://github.com/openai/openai-cookbook/tree/main/transition_guides_for_deprecated_API_endpoints\">deprecated API endpoints</a>.</span>"
   ]
  },
  {
   "cell_type": "markdown",
   "metadata": {},
   "source": [
    "# Creating a synthetic Q&A dataset\n",
    "I use chatGPT to finish the FAQ work.\n",
    "\n",
    "The csv file I create is a introduction section of a journal paper named \"Long short-term memory recurrent neural network for modeling temporal patterns in long-term power forecasting for solar PV facilities: Case study of South Korea\". (https://www.sciencedirect.com/science/article/pii/S095965261934346X)"
   ]
  },
  {
   "cell_type": "markdown",
   "metadata": {},
   "source": [
    "## 1. Read in the data, and create a context\n",
    "Create a context by concatenating the title, the heading and the content of that section"
   ]
  },
  {
   "cell_type": "code",
   "execution_count": 45,
   "metadata": {},
   "outputs": [
    {
     "data": {
      "text/html": [
       "<div>\n",
       "<style scoped>\n",
       "    .dataframe tbody tr th:only-of-type {\n",
       "        vertical-align: middle;\n",
       "    }\n",
       "\n",
       "    .dataframe tbody tr th {\n",
       "        vertical-align: top;\n",
       "    }\n",
       "\n",
       "    .dataframe thead th {\n",
       "        text-align: right;\n",
       "    }\n",
       "</style>\n",
       "<table border=\"1\" class=\"dataframe\">\n",
       "  <thead>\n",
       "    <tr style=\"text-align: right;\">\n",
       "      <th></th>\n",
       "      <th>title</th>\n",
       "      <th>heading</th>\n",
       "      <th>content</th>\n",
       "      <th>context</th>\n",
       "      <th>token</th>\n",
       "    </tr>\n",
       "  </thead>\n",
       "  <tbody>\n",
       "    <tr>\n",
       "      <th>0</th>\n",
       "      <td>Long short-term memory recurrent neural networ...</td>\n",
       "      <td>Introduction1</td>\n",
       "      <td>Among other renewable energy sources (e.g., wi...</td>\n",
       "      <td>Long short-term memory recurrent neural networ...</td>\n",
       "      <td>2158</td>\n",
       "    </tr>\n",
       "    <tr>\n",
       "      <th>1</th>\n",
       "      <td>Long short-term memory recurrent neural networ...</td>\n",
       "      <td>Introduction2</td>\n",
       "      <td>To address those issues, machine learningebase...</td>\n",
       "      <td>Long short-term memory recurrent neural networ...</td>\n",
       "      <td>2417</td>\n",
       "    </tr>\n",
       "    <tr>\n",
       "      <th>2</th>\n",
       "      <td>Long short-term memory recurrent neural networ...</td>\n",
       "      <td>Introduction3</td>\n",
       "      <td>Many of the previous studies listed in Table 1...</td>\n",
       "      <td>Long short-term memory recurrent neural networ...</td>\n",
       "      <td>1722</td>\n",
       "    </tr>\n",
       "    <tr>\n",
       "      <th>3</th>\n",
       "      <td>Long short-term memory recurrent neural networ...</td>\n",
       "      <td>Introduction4</td>\n",
       "      <td>Although short-term forecasting (e.g., 1 h or ...</td>\n",
       "      <td>Long short-term memory recurrent neural networ...</td>\n",
       "      <td>1700</td>\n",
       "    </tr>\n",
       "    <tr>\n",
       "      <th>4</th>\n",
       "      <td>Long short-term memory recurrent neural networ...</td>\n",
       "      <td>Introduction5</td>\n",
       "      <td>Thererfore, the purpose of this study is to pr...</td>\n",
       "      <td>Long short-term memory recurrent neural networ...</td>\n",
       "      <td>1575</td>\n",
       "    </tr>\n",
       "  </tbody>\n",
       "</table>\n",
       "</div>"
      ],
      "text/plain": [
       "                                               title        heading  \\\n",
       "0  Long short-term memory recurrent neural networ...  Introduction1   \n",
       "1  Long short-term memory recurrent neural networ...  Introduction2   \n",
       "2  Long short-term memory recurrent neural networ...  Introduction3   \n",
       "3  Long short-term memory recurrent neural networ...  Introduction4   \n",
       "4  Long short-term memory recurrent neural networ...  Introduction5   \n",
       "\n",
       "                                             content  \\\n",
       "0  Among other renewable energy sources (e.g., wi...   \n",
       "1  To address those issues, machine learningebase...   \n",
       "2  Many of the previous studies listed in Table 1...   \n",
       "3  Although short-term forecasting (e.g., 1 h or ...   \n",
       "4  Thererfore, the purpose of this study is to pr...   \n",
       "\n",
       "                                             context  token  \n",
       "0  Long short-term memory recurrent neural networ...   2158  \n",
       "1  Long short-term memory recurrent neural networ...   2417  \n",
       "2  Long short-term memory recurrent neural networ...   1722  \n",
       "3  Long short-term memory recurrent neural networ...   1700  \n",
       "4  Long short-term memory recurrent neural networ...   1575  "
      ]
     },
     "execution_count": 45,
     "metadata": {},
     "output_type": "execute_result"
    }
   ],
   "source": [
    "import pandas as pd\n",
    "df = pd.read_csv('paper.csv')\n",
    "df['context'] = df.title + \"\\n\" + df.heading + \"\\n\\n\" + df.content\n",
    "df['token'] = df['context'].str.len()\n",
    "df.head()"
   ]
  },
  {
   "cell_type": "markdown",
   "metadata": {},
   "source": [
    "## 2. Create questions based on the context\n",
    "Use gpt-3.5-turbo to generate a number of plausible questions relating to the paper introduction section contents."
   ]
  },
  {
   "cell_type": "code",
   "execution_count": 46,
   "metadata": {},
   "outputs": [
    {
     "name": "stdout",
     "output_type": "stream",
     "text": [
      "1.What is PV solar energy and why is it important in renewable energy sources?\n",
      "\n",
      "2. Why is accurately predicting the potential PV power available at candidate sites critical to the success of solar PV projects?\n",
      "\n",
      "3. Why is long-term forecasting of PV power important in balancing electricity supply and demand, improving energy performance, and financial planning?\n",
      "\n",
      "4. What are the challenges in estimating the potential of power generation at new candidate sites?\n",
      "\n",
      "5. Why is the use of solar irradiation data at high temporal resolutions important when designing PV systems for smart grids?\n",
      "\n",
      "6. What was pointed out in previous studies about the verification of potential energy generation with actual PV power data?\n"
     ]
    }
   ],
   "source": [
    "import openai\n",
    "\n",
    "openai.api_key = 'your_key'\n",
    "\n",
    "\n",
    "def get_questions_chatGPT(context):\n",
    "    \n",
    "    prompt = f\"Write questions based on the text below\\n\\nText: {context}\\n\\nQuestions:\\n1.\"\n",
    "    \n",
    "    completion = openai.ChatCompletion.create(\n",
    "                model=\"gpt-3.5-turbo\", \n",
    "                messages=[{\"role\": \"user\", \"content\": prompt}]\n",
    "                )\n",
    "    return completion.choices[0][\"message\"][\"content\"]\n",
    "\n",
    "\n",
    "df['questions']= df.context.apply(get_questions_chatGPT)\n",
    "df['questions'] = \"1.\" + df.questions\n",
    "print(df[['questions']].values[0][0])"
   ]
  },
  {
   "cell_type": "code",
   "execution_count": 47,
   "metadata": {},
   "outputs": [
    {
     "data": {
      "text/html": [
       "<div>\n",
       "<style scoped>\n",
       "    .dataframe tbody tr th:only-of-type {\n",
       "        vertical-align: middle;\n",
       "    }\n",
       "\n",
       "    .dataframe tbody tr th {\n",
       "        vertical-align: top;\n",
       "    }\n",
       "\n",
       "    .dataframe thead th {\n",
       "        text-align: right;\n",
       "    }\n",
       "</style>\n",
       "<table border=\"1\" class=\"dataframe\">\n",
       "  <thead>\n",
       "    <tr style=\"text-align: right;\">\n",
       "      <th></th>\n",
       "      <th>title</th>\n",
       "      <th>heading</th>\n",
       "      <th>content</th>\n",
       "      <th>context</th>\n",
       "      <th>token</th>\n",
       "      <th>questions</th>\n",
       "    </tr>\n",
       "  </thead>\n",
       "  <tbody>\n",
       "    <tr>\n",
       "      <th>0</th>\n",
       "      <td>Long short-term memory recurrent neural networ...</td>\n",
       "      <td>Introduction1</td>\n",
       "      <td>Among other renewable energy sources (e.g., wi...</td>\n",
       "      <td>Long short-term memory recurrent neural networ...</td>\n",
       "      <td>2158</td>\n",
       "      <td>1.What is PV solar energy and why is it import...</td>\n",
       "    </tr>\n",
       "    <tr>\n",
       "      <th>1</th>\n",
       "      <td>Long short-term memory recurrent neural networ...</td>\n",
       "      <td>Introduction2</td>\n",
       "      <td>To address those issues, machine learningebase...</td>\n",
       "      <td>Long short-term memory recurrent neural networ...</td>\n",
       "      <td>2417</td>\n",
       "      <td>1.What approach has been adopted to address th...</td>\n",
       "    </tr>\n",
       "    <tr>\n",
       "      <th>2</th>\n",
       "      <td>Long short-term memory recurrent neural networ...</td>\n",
       "      <td>Introduction3</td>\n",
       "      <td>Many of the previous studies listed in Table 1...</td>\n",
       "      <td>Long short-term memory recurrent neural networ...</td>\n",
       "      <td>1722</td>\n",
       "      <td>1.What was the focus of previous studies liste...</td>\n",
       "    </tr>\n",
       "    <tr>\n",
       "      <th>3</th>\n",
       "      <td>Long short-term memory recurrent neural networ...</td>\n",
       "      <td>Introduction4</td>\n",
       "      <td>Although short-term forecasting (e.g., 1 h or ...</td>\n",
       "      <td>Long short-term memory recurrent neural networ...</td>\n",
       "      <td>1700</td>\n",
       "      <td>1.Why is long-term forecasting needed in asses...</td>\n",
       "    </tr>\n",
       "    <tr>\n",
       "      <th>4</th>\n",
       "      <td>Long short-term memory recurrent neural networ...</td>\n",
       "      <td>Introduction5</td>\n",
       "      <td>Thererfore, the purpose of this study is to pr...</td>\n",
       "      <td>Long short-term memory recurrent neural networ...</td>\n",
       "      <td>1575</td>\n",
       "      <td>1.What is the purpose of the study?\\n2. What t...</td>\n",
       "    </tr>\n",
       "  </tbody>\n",
       "</table>\n",
       "</div>"
      ],
      "text/plain": [
       "                                               title        heading  \\\n",
       "0  Long short-term memory recurrent neural networ...  Introduction1   \n",
       "1  Long short-term memory recurrent neural networ...  Introduction2   \n",
       "2  Long short-term memory recurrent neural networ...  Introduction3   \n",
       "3  Long short-term memory recurrent neural networ...  Introduction4   \n",
       "4  Long short-term memory recurrent neural networ...  Introduction5   \n",
       "\n",
       "                                             content  \\\n",
       "0  Among other renewable energy sources (e.g., wi...   \n",
       "1  To address those issues, machine learningebase...   \n",
       "2  Many of the previous studies listed in Table 1...   \n",
       "3  Although short-term forecasting (e.g., 1 h or ...   \n",
       "4  Thererfore, the purpose of this study is to pr...   \n",
       "\n",
       "                                             context  token  \\\n",
       "0  Long short-term memory recurrent neural networ...   2158   \n",
       "1  Long short-term memory recurrent neural networ...   2417   \n",
       "2  Long short-term memory recurrent neural networ...   1722   \n",
       "3  Long short-term memory recurrent neural networ...   1700   \n",
       "4  Long short-term memory recurrent neural networ...   1575   \n",
       "\n",
       "                                           questions  \n",
       "0  1.What is PV solar energy and why is it import...  \n",
       "1  1.What approach has been adopted to address th...  \n",
       "2  1.What was the focus of previous studies liste...  \n",
       "3  1.Why is long-term forecasting needed in asses...  \n",
       "4  1.What is the purpose of the study?\\n2. What t...  "
      ]
     },
     "execution_count": 47,
     "metadata": {},
     "output_type": "execute_result"
    }
   ],
   "source": [
    "df"
   ]
  },
  {
   "cell_type": "code",
   "execution_count": 49,
   "metadata": {},
   "outputs": [
    {
     "name": "stdout",
     "output_type": "stream",
     "text": [
      "Among other renewable energy sources (e.g., wind, tides, geothermal heat), photovoltaic (PV) solar energy is one of the most promising renewable energies available all over the world (International Energy Agency, 2018). However, solar energy generation is affected by geographical location, and thus accurately predicting the potential PV power available at candidate sites is critical to the success of solar PV projects (International Finance Corporation (IFC), 2019). For example, estimated power generation commonly serves as a crucial input to assess the feasibility of PV projects and select a suitable installation location for PV panels (Liu et al., 2017). Long-term forecasting of PV power is also important in balancing electricity supply and demand, improving energy performance (Lin and Pai, 2016), and financial planning (International Finance Corporation, 2019). However, estimating the potential for solar PV power generation is challenging because of topographical and meteorological conditions at the site, which differ from region to region and vary over time (Das et al., 2018). The estimated amount of solar energy depends on the aspect and slope of the specific location, which can be extracted from terrain datasets (Gastli and Charabi, 2010). The amount of power generated is also strongly affected by weather conditions because the amount of solar energy that reaches the earth varies by season and even within days. Hontoria et al. (2019) pointed out that the use of solar irradiation data at high temporal resolutions (e.g., less than 1 h) is important when designing PV systems for smart grids. The combined uncertainties of topographical and meteorological conditions lead to difficulties in estimating the potential of power generation at new candidate sites. In addition, it was pointed out that the potential energy generation was not often verified with the actual PV power data in the previous studies (Liu et al., 2017; Al-Soud and Hrayshat, 2009).\n"
     ]
    }
   ],
   "source": [
    "print(df.content.values[0])"
   ]
  },
  {
   "cell_type": "markdown",
   "metadata": {},
   "source": [
    "## 3. Create answers based on the context\n",
    "Use gpt-3.5-turbo to to answer the questions given the relevant paper introduction section contents."
   ]
  },
  {
   "cell_type": "code",
   "execution_count": 50,
   "metadata": {},
   "outputs": [
    {
     "name": "stdout",
     "output_type": "stream",
     "text": [
      "1.PV solar energy is a renewable energy source that is considered as one of the most promising sources of renewable energy worldwide. It is important because it can help reduce dependence on fossil fuels and mitigate the negative effects of climate change on the environment.\n",
      "\n",
      "2. Accurately predicting the potential PV power available at candidate sites is critical to the success of solar PV projects because it serves as a crucial input to assess the feasibility of PV projects and select a suitable installation location for PV panels.\n",
      "\n",
      "3. Long-term forecasting of PV power is important in balancing electricity supply and demand, improving energy performance, and financial planning. It helps ensure that energy supply meets demand and helps optimize the performance of PV facilities.\n",
      "\n",
      "4. The challenges in estimating the potential of power generation at new candidate sites include topographical and meteorological conditions that differ from region to region and vary over time. The amount of power generated is affected by the aspect and slope of the specific location, as well as weather conditions.\n",
      "\n",
      "5. The use of solar irradiation data at high temporal resolutions is important when designing PV systems for smart grids because it helps ensure that the PV system can respond to changes in energy demand in real-time.\n",
      "\n",
      "6. Previous studies have pointed out that potential energy generation was not often verified with actual PV power data, which may affect the accuracy of the forecasts and the feasibility of PV projects.\n"
     ]
    }
   ],
   "source": [
    "def get_answers_chatGPT(row):\n",
    "    \n",
    "    prompt = f\"Write answer based on the text below\\n\\nText: {row.context}\\n\\nQuestions:\\n{row.questions}\\n\\nAnswers:\\n1.\"\n",
    "    \n",
    "    completion = openai.ChatCompletion.create(\n",
    "                model=\"gpt-3.5-turbo\", \n",
    "                messages=[{\"role\": \"user\", \"content\": prompt}]\n",
    "                )\n",
    "    return completion.choices[0][\"message\"][\"content\"]\n",
    "\n",
    "\n",
    "df['answers']= df.apply(get_answers_chatGPT, axis=1)\n",
    "df['answers'] = \"1.\" + df.answers\n",
    "df = df.dropna().reset_index().drop('index',axis=1)\n",
    "print(df[['answers']].values[0][0])"
   ]
  },
  {
   "cell_type": "code",
   "execution_count": 51,
   "metadata": {},
   "outputs": [
    {
     "data": {
      "text/html": [
       "<div>\n",
       "<style scoped>\n",
       "    .dataframe tbody tr th:only-of-type {\n",
       "        vertical-align: middle;\n",
       "    }\n",
       "\n",
       "    .dataframe tbody tr th {\n",
       "        vertical-align: top;\n",
       "    }\n",
       "\n",
       "    .dataframe thead th {\n",
       "        text-align: right;\n",
       "    }\n",
       "</style>\n",
       "<table border=\"1\" class=\"dataframe\">\n",
       "  <thead>\n",
       "    <tr style=\"text-align: right;\">\n",
       "      <th></th>\n",
       "      <th>title</th>\n",
       "      <th>heading</th>\n",
       "      <th>content</th>\n",
       "      <th>context</th>\n",
       "      <th>token</th>\n",
       "      <th>questions</th>\n",
       "      <th>answers</th>\n",
       "    </tr>\n",
       "  </thead>\n",
       "  <tbody>\n",
       "    <tr>\n",
       "      <th>0</th>\n",
       "      <td>Long short-term memory recurrent neural networ...</td>\n",
       "      <td>Introduction1</td>\n",
       "      <td>Among other renewable energy sources (e.g., wi...</td>\n",
       "      <td>Long short-term memory recurrent neural networ...</td>\n",
       "      <td>2158</td>\n",
       "      <td>1.What is PV solar energy and why is it import...</td>\n",
       "      <td>1.PV solar energy is a renewable energy source...</td>\n",
       "    </tr>\n",
       "    <tr>\n",
       "      <th>1</th>\n",
       "      <td>Long short-term memory recurrent neural networ...</td>\n",
       "      <td>Introduction2</td>\n",
       "      <td>To address those issues, machine learningebase...</td>\n",
       "      <td>Long short-term memory recurrent neural networ...</td>\n",
       "      <td>2417</td>\n",
       "      <td>1.What approach has been adopted to address th...</td>\n",
       "      <td>1.Machine learning-based approaches have been ...</td>\n",
       "    </tr>\n",
       "    <tr>\n",
       "      <th>2</th>\n",
       "      <td>Long short-term memory recurrent neural networ...</td>\n",
       "      <td>Introduction3</td>\n",
       "      <td>Many of the previous studies listed in Table 1...</td>\n",
       "      <td>Long short-term memory recurrent neural networ...</td>\n",
       "      <td>1722</td>\n",
       "      <td>1.What was the focus of previous studies liste...</td>\n",
       "      <td>1.Generating power predictions for a single PV...</td>\n",
       "    </tr>\n",
       "    <tr>\n",
       "      <th>3</th>\n",
       "      <td>Long short-term memory recurrent neural networ...</td>\n",
       "      <td>Introduction4</td>\n",
       "      <td>Although short-term forecasting (e.g., 1 h or ...</td>\n",
       "      <td>Long short-term memory recurrent neural networ...</td>\n",
       "      <td>1700</td>\n",
       "      <td>1.Why is long-term forecasting needed in asses...</td>\n",
       "      <td>1.Long-term forecasting is needed in assessing...</td>\n",
       "    </tr>\n",
       "    <tr>\n",
       "      <th>4</th>\n",
       "      <td>Long short-term memory recurrent neural networ...</td>\n",
       "      <td>Introduction5</td>\n",
       "      <td>Thererfore, the purpose of this study is to pr...</td>\n",
       "      <td>Long short-term memory recurrent neural networ...</td>\n",
       "      <td>1575</td>\n",
       "      <td>1.What is the purpose of the study?\\n2. What t...</td>\n",
       "      <td>1.The purpose of the study is to propose and e...</td>\n",
       "    </tr>\n",
       "  </tbody>\n",
       "</table>\n",
       "</div>"
      ],
      "text/plain": [
       "                                               title        heading  \\\n",
       "0  Long short-term memory recurrent neural networ...  Introduction1   \n",
       "1  Long short-term memory recurrent neural networ...  Introduction2   \n",
       "2  Long short-term memory recurrent neural networ...  Introduction3   \n",
       "3  Long short-term memory recurrent neural networ...  Introduction4   \n",
       "4  Long short-term memory recurrent neural networ...  Introduction5   \n",
       "\n",
       "                                             content  \\\n",
       "0  Among other renewable energy sources (e.g., wi...   \n",
       "1  To address those issues, machine learningebase...   \n",
       "2  Many of the previous studies listed in Table 1...   \n",
       "3  Although short-term forecasting (e.g., 1 h or ...   \n",
       "4  Thererfore, the purpose of this study is to pr...   \n",
       "\n",
       "                                             context  token  \\\n",
       "0  Long short-term memory recurrent neural networ...   2158   \n",
       "1  Long short-term memory recurrent neural networ...   2417   \n",
       "2  Long short-term memory recurrent neural networ...   1722   \n",
       "3  Long short-term memory recurrent neural networ...   1700   \n",
       "4  Long short-term memory recurrent neural networ...   1575   \n",
       "\n",
       "                                           questions  \\\n",
       "0  1.What is PV solar energy and why is it import...   \n",
       "1  1.What approach has been adopted to address th...   \n",
       "2  1.What was the focus of previous studies liste...   \n",
       "3  1.Why is long-term forecasting needed in asses...   \n",
       "4  1.What is the purpose of the study?\\n2. What t...   \n",
       "\n",
       "                                             answers  \n",
       "0  1.PV solar energy is a renewable energy source...  \n",
       "1  1.Machine learning-based approaches have been ...  \n",
       "2  1.Generating power predictions for a single PV...  \n",
       "3  1.Long-term forecasting is needed in assessing...  \n",
       "4  1.The purpose of the study is to propose and e...  "
      ]
     },
     "execution_count": 51,
     "metadata": {},
     "output_type": "execute_result"
    }
   ],
   "source": [
    "df"
   ]
  },
  {
   "cell_type": "markdown",
   "metadata": {},
   "source": [
    "## 4. Save the  Q&A dataset based on paper introduction section"
   ]
  },
  {
   "cell_type": "code",
   "execution_count": 52,
   "metadata": {},
   "outputs": [],
   "source": [
    "df.to_csv('paper_qa.csv', index=False)"
   ]
  }
 ],
 "metadata": {
  "kernelspec": {
   "display_name": "Python 3.9.9 64-bit ('3.9.9')",
   "language": "python",
   "name": "python3"
  },
  "language_info": {
   "codemirror_mode": {
    "name": "ipython",
    "version": 3
   },
   "file_extension": ".py",
   "mimetype": "text/x-python",
   "name": "python",
   "nbconvert_exporter": "python",
   "pygments_lexer": "ipython3",
   "version": "3.9.16"
  },
  "orig_nbformat": 4,
  "vscode": {
   "interpreter": {
    "hash": "cb9817b186a29e4e9713184d901f26c1ee05ad25243d878baff7f31bb1fef480"
   }
  }
 },
 "nbformat": 4,
 "nbformat_minor": 2
}
